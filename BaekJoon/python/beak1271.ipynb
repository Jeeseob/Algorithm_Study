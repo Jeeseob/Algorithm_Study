{
 "cells": [
  {
   "cell_type": "markdown",
   "id": "e975b253",
   "metadata": {},
   "source": [
    "## 백준 알고리즘   \n",
    "1271번   \n",
    "엄청난 부자2"
   ]
  },
  {
   "cell_type": "code",
   "execution_count": 1,
   "id": "0d612818",
   "metadata": {},
   "outputs": [
    {
     "name": "stdout",
     "output_type": "stream",
     "text": [
      "1000 100\n"
     ]
    }
   ],
   "source": [
    "n = list(map(int, input().split()))"
   ]
  },
  {
   "cell_type": "code",
   "execution_count": 5,
   "id": "2d32af12",
   "metadata": {},
   "outputs": [
    {
     "name": "stdout",
     "output_type": "stream",
     "text": [
      "10\n"
     ]
    }
   ],
   "source": [
    "print(n[0]//n[1])"
   ]
  },
  {
   "cell_type": "code",
   "execution_count": null,
   "id": "66592e03",
   "metadata": {},
   "outputs": [],
   "source": [
    "print(n[0]%n[1])"
   ]
  }
 ],
 "metadata": {
  "kernelspec": {
   "display_name": "Python 3",
   "language": "python",
   "name": "python3"
  },
  "language_info": {
   "codemirror_mode": {
    "name": "ipython",
    "version": 3
   },
   "file_extension": ".py",
   "mimetype": "text/x-python",
   "name": "python",
   "nbconvert_exporter": "python",
   "pygments_lexer": "ipython3",
   "version": "3.9.4"
  }
 },
 "nbformat": 4,
 "nbformat_minor": 5
}
