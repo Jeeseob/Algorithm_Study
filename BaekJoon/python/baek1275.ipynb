{
 "cells": [
  {
   "cell_type": "markdown",
   "id": "107f4986",
   "metadata": {},
   "source": [
    "## 백준 알고리즘   \n",
    "1275번   \n",
    "커피숍2"
   ]
  },
  {
   "cell_type": "code",
   "execution_count": 21,
   "id": "2f462962",
   "metadata": {},
   "outputs": [
    {
     "name": "stdout",
     "output_type": "stream",
     "text": [
      "5 2\n",
      "1 2 3 4 5\n"
     ]
    }
   ],
   "source": [
    "size, question = list(map(int, input().split()))\n",
    "num_arr = list(map(int, input().split()))"
   ]
  },
  {
   "cell_type": "code",
   "execution_count": 22,
   "id": "45e0bacb",
   "metadata": {},
   "outputs": [
    {
     "name": "stdout",
     "output_type": "stream",
     "text": [
      "2 3 3 1\n",
      "[1, 2, 3, 4, 5]\n",
      "5\n",
      "3 5 4 1\n",
      "[1, 2, 1, 4, 5]\n",
      "10\n"
     ]
    }
   ],
   "source": [
    "while(question>0) :\n",
    "    sum = 0\n",
    "    question -= 1\n",
    "    x,y,a,b = list(map(int, input().split()))\n",
    "    maxNum = max(x,y)\n",
    "    minNum = min(x,y)\n",
    "    for i in range(minNum-1,maxNum) :\n",
    "        sum += num_arr[i]\n",
    "    print(sum)\n",
    "    num_arr[a-1] = b\n",
    "    \n",
    "# 시간초과 발생.."
   ]
  }
 ],
 "metadata": {
  "kernelspec": {
   "display_name": "Python 3",
   "language": "python",
   "name": "python3"
  },
  "language_info": {
   "codemirror_mode": {
    "name": "ipython",
    "version": 3
   },
   "file_extension": ".py",
   "mimetype": "text/x-python",
   "name": "python",
   "nbconvert_exporter": "python",
   "pygments_lexer": "ipython3",
   "version": "3.9.4"
  }
 },
 "nbformat": 4,
 "nbformat_minor": 5
}
