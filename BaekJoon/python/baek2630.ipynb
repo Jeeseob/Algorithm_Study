{
 "cells": [
  {
   "cell_type": "markdown",
   "id": "0e88b424",
   "metadata": {},
   "source": [
    "## 백준 알고리즘   \n",
    "2630번    \n",
    "색종이 만들기 "
   ]
  },
  {
   "cell_type": "code",
   "execution_count": 54,
   "id": "35aaf3f3",
   "metadata": {
    "scrolled": false
   },
   "outputs": [],
   "source": [
    "import numpy as np # 2차원 배열을 slicing 하기 위해"
   ]
  },
  {
   "cell_type": "code",
   "execution_count": 91,
   "id": "8d0dd3cd",
   "metadata": {
    "scrolled": false
   },
   "outputs": [
    {
     "name": "stdout",
     "output_type": "stream",
     "text": [
      "4\n",
      "1 1 0 0\n",
      "1 1 0 0\n",
      "0 0 1 1 \n",
      "0 0 1 1\n"
     ]
    }
   ],
   "source": [
    "n = int(input())\n",
    "m= [[int(x) for x in input().split()]for y in range(n)] "
   ]
  },
  {
   "cell_type": "code",
   "execution_count": 83,
   "id": "0eb8f17b",
   "metadata": {},
   "outputs": [],
   "source": [
    "# 백준에서 Numpy 지원 X...\n",
    "def origamiNumpy(n,m):\n",
    "    global blue\n",
    "    global white\n",
    "    if n == 1:\n",
    "        if m[0][0] == 1:\n",
    "            blue +=1\n",
    "        elif m[0][0] == 0:\n",
    "            white  +=1\n",
    "        return\n",
    "    else :\n",
    "        temp = m[0][0]\n",
    "        for i in range(n):\n",
    "            for j in range(n):\n",
    "                if m[i][j] != temp:\n",
    "                    origami(n//2,m[0:n//2, 0:n//2])\n",
    "                    origami(n//2,m[0:n//2, n//2:])\n",
    "                    origami(n//2,m[n//2:, 0:n//2])\n",
    "                    origami(n//2,m[n//2:, n//2:])\n",
    "                    return\n",
    "        if temp == 1:\n",
    "            blue +=1\n",
    "        elif temp == 0:\n",
    "            white  +=1\n",
    "        return"
   ]
  },
  {
   "cell_type": "code",
   "execution_count": 95,
   "id": "2f5a512d",
   "metadata": {},
   "outputs": [],
   "source": [
    "def origami(n,m):\n",
    "    # 전역변수 사용을 위해 global\n",
    "    global blue\n",
    "    global white\n",
    "    \n",
    "    # 데이터 크기가 1인 경우, 해당 데이터 값을 하나의 사각형으로 판단.\n",
    "    if n == 1:\n",
    "        if m[0][0] == 1:\n",
    "            blue +=1\n",
    "        elif m[0][0] == 0:\n",
    "            white  +=1\n",
    "        return\n",
    "    else :\n",
    "        temp = m[0][0]\n",
    "        for i in range(n):\n",
    "            for j in range(n):\n",
    "                if m[i][j] != temp:\n",
    "                    origami(n//2,[row[0:n//2] for row in m[0:n//2]])# 1사분면\n",
    "                    origami(n//2,[row[0:n//2] for row in m[n//2:]]) # 2사분면\n",
    "                    origami(n//2,[row[n//2:] for row in m[0:n//2]]) # 3사분면\n",
    "                    origami(n//2,[row[n//2:] for row in m[n//2:]])  # 4사분면\n",
    "                    # 하나의 큰 사각형이 아니기 때문에, 바로 return\n",
    "                    return\n",
    "                \n",
    "        # 위의 for 문을 통과한 경우 하나의 큰 사각형으로 판단\n",
    "        if temp == 1:\n",
    "            blue +=1\n",
    "        elif temp == 0:\n",
    "            white  +=1\n",
    "        return "
   ]
  },
  {
   "cell_type": "code",
   "execution_count": 96,
   "id": "fdb9849a",
   "metadata": {},
   "outputs": [
    {
     "name": "stdout",
     "output_type": "stream",
     "text": [
      "2\n",
      "2\n"
     ]
    }
   ],
   "source": [
    "# main code\n",
    "global blue\n",
    "global white\n",
    "blue = 0\n",
    "white = 0\n",
    "origami(n,m)\n",
    "print(white)\n",
    "print(blue)"
   ]
  },
  {
   "cell_type": "code",
   "execution_count": null,
   "id": "91aaa0fe",
   "metadata": {},
   "outputs": [],
   "source": []
  }
 ],
 "metadata": {
  "kernelspec": {
   "display_name": "Python 3",
   "language": "python",
   "name": "python3"
  },
  "language_info": {
   "codemirror_mode": {
    "name": "ipython",
    "version": 3
   },
   "file_extension": ".py",
   "mimetype": "text/x-python",
   "name": "python",
   "nbconvert_exporter": "python",
   "pygments_lexer": "ipython3",
   "version": "3.9.4"
  }
 },
 "nbformat": 4,
 "nbformat_minor": 5
}
