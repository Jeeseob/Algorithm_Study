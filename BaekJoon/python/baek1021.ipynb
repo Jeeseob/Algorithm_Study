{
 "cells": [
  {
   "cell_type": "markdown",
   "id": "2a1fc480",
   "metadata": {},
   "source": [
    "## 백준 알고리즘   \n",
    "1021번   \n",
    "회전하는 큐   "
   ]
  },
  {
   "cell_type": "code",
   "execution_count": 14,
   "id": "c676e077",
   "metadata": {
    "scrolled": false
   },
   "outputs": [
    {
     "name": "stdout",
     "output_type": "stream",
     "text": [
      "\n",
      "10 3\n"
     ]
    }
   ],
   "source": [
    "nm = list(map(int, input().split()))\n",
    "mData =  list(map(int, input().split()))"
   ]
  },
  {
   "cell_type": "markdown",
   "id": "f7663c6d",
   "metadata": {},
   "source": [
    "## print(nm)\n",
    "n = nm[0]\n",
    "m = nm[1]"
   ]
  },
  {
   "cell_type": "code",
   "execution_count": 11,
   "id": "593b79b4",
   "metadata": {},
   "outputs": [],
   "source": [
    "count = 0\n",
    "queue = [i for i in range(1,n+1)]"
   ]
  },
  {
   "cell_type": "code",
   "execution_count": 12,
   "id": "2e145a08",
   "metadata": {},
   "outputs": [],
   "source": [
    "for i in range(m):\n",
    "    if int(mData[i]) == queue[0]:\n",
    "        queue.pop(0)\n",
    "        break\n",
    "    if not mData[i] in queue:\n",
    "        print('NoT Found{}'.format(mData[i]))\n",
    "        break\n",
    "    # 양방향 queue이기 때문에 어디와 더 가까운지 판단해야함.\n",
    "    elif queue.index(mData[i]) < len(array)//2: \n",
    "        # queue 값이 mData[i]와 같을때 까지 계속 popleft\n",
    "        while mData[i] != queue[0]:\n",
    "            queue.append(queue.pop(0))\n",
    "            count += 1\n",
    "        queue.pop(0)\n",
    "        \n",
    "    else:\n",
    "        # queue 값이 mData[i]와 같을때 까지 계속 popright\n",
    "        while mData[i] != queue[0]:\n",
    "            queue.insert(0,queue.pop())\n",
    "            count += 1\n",
    "        queue.pop(0)"
   ]
  },
  {
   "cell_type": "code",
   "execution_count": 13,
   "id": "f49feddc",
   "metadata": {},
   "outputs": [
    {
     "name": "stdout",
     "output_type": "stream",
     "text": [
      "6\n"
     ]
    }
   ],
   "source": [
    "print(count)"
   ]
  },
  {
   "cell_type": "code",
   "execution_count": 42,
   "id": "208a232a",
   "metadata": {},
   "outputs": [
    {
     "name": "stdout",
     "output_type": "stream",
     "text": [
      "[3, 4, 5, 6, 7, 8, 9, 10, 2]\n",
      "[4, 5, 6, 7, 8, 9, 10, 2, 3]\n",
      "[5, 6, 7, 8, 9, 10, 2, 3, 4]\n",
      "[6, 7, 8, 9, 10, 2, 3, 4, 5]\n",
      "[5, 7, 8, 9, 10, 2, 3, 4]\n",
      "[4, 5, 7, 8, 9, 10, 2, 3]\n",
      "[3, 4, 5, 7, 8, 9, 10, 2]\n",
      "[2, 4, 5, 7, 8, 9, 10]\n",
      "[5, 7, 8, 9, 10, 4]\n",
      "[7, 8, 9, 10, 4, 5]\n",
      "[9, 10, 4, 5, 8]\n",
      "[8, 10, 4, 5]\n",
      "[4, 5, 10]\n",
      "[10, 5]\n",
      "14\n"
     ]
    }
   ],
   "source": [
    "import sys\n",
    "\n",
    "n = 10\n",
    "m = 10\n",
    "mData = [1, 6, 3, 2, 7, 9, 8, 4, 10, 5]\n",
    "count = 0\n",
    "queue = [i for i in range(1,n+1)]\n",
    "\n",
    "for data in mData:\n",
    "    if data == queue[0]:\n",
    "        queue.pop(0)\n",
    "    # 양방향 queue이기 때문에 어디와 더 가까운지 판단해야함.\n",
    "    elif queue.index(data) > len(queue)//2: \n",
    "        while data != queue[0]:\n",
    "            queue.insert(0,queue.pop())\n",
    "            print(queue)\n",
    "            count += 1\n",
    "        queue.pop(0)\n",
    "        \n",
    "    else:\n",
    "        while data != queue[0]:\n",
    "            queue.append(queue.pop(0))\n",
    "            print(queue)\n",
    "            count += 1\n",
    "        queue.pop(0)\n",
    "print(count)\n"
   ]
  },
  {
   "cell_type": "code",
   "execution_count": null,
   "id": "9e8c6afa",
   "metadata": {},
   "outputs": [],
   "source": []
  }
 ],
 "metadata": {
  "kernelspec": {
   "display_name": "Python 3",
   "language": "python",
   "name": "python3"
  },
  "language_info": {
   "codemirror_mode": {
    "name": "ipython",
    "version": 3
   },
   "file_extension": ".py",
   "mimetype": "text/x-python",
   "name": "python",
   "nbconvert_exporter": "python",
   "pygments_lexer": "ipython3",
   "version": "3.9.4"
  }
 },
 "nbformat": 4,
 "nbformat_minor": 5
}
