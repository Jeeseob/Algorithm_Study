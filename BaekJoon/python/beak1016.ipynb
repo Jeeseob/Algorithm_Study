{
 "cells": [
  {
   "cell_type": "markdown",
   "id": "ba5ff5b7",
   "metadata": {},
   "source": [
    "## 백준 알고리즘   \n",
    "1016번    \n",
    "제곱 ㄴㄴ 수"
   ]
  },
  {
   "cell_type": "markdown",
   "id": "a8f551c5",
   "metadata": {},
   "source": [
    "에라토스테네스의 체를 활용하여 풀면 시간 안에 풀 수 있다."
   ]
  },
  {
   "cell_type": "code",
   "execution_count": null,
   "id": "7e1e4c28",
   "metadata": {},
   "outputs": [],
   "source": [
    "import math\n",
    "\n",
    "MIN, MAX = map(int, input().split(' '))\n",
    "\n",
    "num = [True] * (MAX - MIN + 1)\n",
    "count = 0\n",
    "N = 1\n",
    "\n",
    "while N * N  <= MAX:\n",
    "    N += 1\n",
    "    square = N * N\n",
    "    i = MIN // square\n",
    "\n",
    "    while square * i <= MAX:\n",
    "        idx = square * i - MIN\n",
    "\n",
    "        if idx >= 0 and num[idx]:\n",
    "            #count += 1\n",
    "            num[idx] = False\n",
    "        i += 1\n",
    "        \n",
    "print(num[True])"
   ]
  },
  {
   "cell_type": "code",
   "execution_count": null,
   "id": "396a5003",
   "metadata": {},
   "outputs": [],
   "source": []
  },
  {
   "cell_type": "code",
   "execution_count": null,
   "id": "9ef7e9e9",
   "metadata": {},
   "outputs": [],
   "source": []
  },
  {
   "cell_type": "code",
   "execution_count": null,
   "id": "65597e36",
   "metadata": {},
   "outputs": [],
   "source": []
  }
 ],
 "metadata": {
  "kernelspec": {
   "display_name": "Python 3",
   "language": "python",
   "name": "python3"
  },
  "language_info": {
   "codemirror_mode": {
    "name": "ipython",
    "version": 3
   },
   "file_extension": ".py",
   "mimetype": "text/x-python",
   "name": "python",
   "nbconvert_exporter": "python",
   "pygments_lexer": "ipython3",
   "version": "3.9.4"
  }
 },
 "nbformat": 4,
 "nbformat_minor": 5
}
