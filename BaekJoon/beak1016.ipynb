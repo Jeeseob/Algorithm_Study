{
 "cells": [
  {
   "cell_type": "markdown",
   "id": "ba5ff5b7",
   "metadata": {},
   "source": [
    "## 백준 알고리즘   \n",
    "1016번    \n",
    "제곱 ㄴㄴ 수"
   ]
  },
  {
   "cell_type": "markdown",
   "id": "a8f551c5",
   "metadata": {},
   "source": [
    "에라토스테네스의 체를 활용하여 풀면 시간 안에 풀 수 있다."
   ]
  },
  {
   "cell_type": "code",
   "execution_count": 36,
   "id": "7e1e4c28",
   "metadata": {},
   "outputs": [
    {
     "name": "stdout",
     "output_type": "stream",
     "text": [
      "1 10\n"
     ]
    },
    {
     "ename": "TypeError",
     "evalue": "'int' object is not callable",
     "output_type": "error",
     "traceback": [
      "\u001b[0;31m---------------------------------------------------------------------------\u001b[0m",
      "\u001b[0;31mTypeError\u001b[0m                                 Traceback (most recent call last)",
      "\u001b[0;32m<ipython-input-36-fa8dfd9db3be>\u001b[0m in \u001b[0;36m<module>\u001b[0;34m\u001b[0m\n\u001b[1;32m     20\u001b[0m         \u001b[0mi\u001b[0m \u001b[0;34m+=\u001b[0m \u001b[0;36m1\u001b[0m\u001b[0;34m\u001b[0m\u001b[0;34m\u001b[0m\u001b[0m\n\u001b[1;32m     21\u001b[0m \u001b[0;34m\u001b[0m\u001b[0m\n\u001b[0;32m---> 22\u001b[0;31m \u001b[0mprint\u001b[0m\u001b[0;34m(\u001b[0m\u001b[0mcount\u001b[0m\u001b[0;34m(\u001b[0m\u001b[0mnum\u001b[0m\u001b[0;34m[\u001b[0m\u001b[0;32mTrue\u001b[0m\u001b[0;34m]\u001b[0m\u001b[0;34m)\u001b[0m\u001b[0;34m)\u001b[0m\u001b[0;34m\u001b[0m\u001b[0;34m\u001b[0m\u001b[0m\n\u001b[0m",
      "\u001b[0;31mTypeError\u001b[0m: 'int' object is not callable"
     ]
    }
   ],
   "source": [
    "import math\n",
    "\n",
    "MIN, MAX = map(int, input().split(' '))\n",
    "\n",
    "num = [True] * (MAX - MIN + 1)\n",
    "count = 0\n",
    "N = 1\n",
    "\n",
    "while N * N  <= MAX:\n",
    "    N += 1\n",
    "    square = N * N\n",
    "    i = MIN // square\n",
    "\n",
    "    while square * i <= MAX:\n",
    "        idx = square * i - MIN\n",
    "\n",
    "        if idx >= 0 and num[idx]:\n",
    "            #count += 1\n",
    "            num[idx] = False\n",
    "        i += 1\n",
    "        \n",
    "print(num[True]))"
   ]
  },
  {
   "cell_type": "code",
   "execution_count": null,
   "id": "396a5003",
   "metadata": {},
   "outputs": [],
   "source": []
  },
  {
   "cell_type": "code",
   "execution_count": null,
   "id": "9ef7e9e9",
   "metadata": {},
   "outputs": [],
   "source": []
  },
  {
   "cell_type": "code",
   "execution_count": null,
   "id": "65597e36",
   "metadata": {},
   "outputs": [],
   "source": []
  }
 ],
 "metadata": {
  "kernelspec": {
   "display_name": "Python 3",
   "language": "python",
   "name": "python3"
  },
  "language_info": {
   "codemirror_mode": {
    "name": "ipython",
    "version": 3
   },
   "file_extension": ".py",
   "mimetype": "text/x-python",
   "name": "python",
   "nbconvert_exporter": "python",
   "pygments_lexer": "ipython3",
   "version": "3.9.4"
  }
 },
 "nbformat": 4,
 "nbformat_minor": 5
}
