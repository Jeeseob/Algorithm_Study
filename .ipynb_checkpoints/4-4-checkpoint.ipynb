{
 "cells": [
  {
   "cell_type": "code",
   "execution_count": 17,
   "id": "50bfae7d",
   "metadata": {},
   "outputs": [
    {
     "ename": "NameError",
     "evalue": "name 'new_cha' is not defined",
     "output_type": "error",
     "traceback": [
      "\u001b[0;31m---------------------------------------------------------------------------\u001b[0m",
      "\u001b[0;31mNameError\u001b[0m                                 Traceback (most recent call last)",
      "\u001b[0;32m<ipython-input-17-88a741fb306d>\u001b[0m in \u001b[0;36m<module>\u001b[0;34m\u001b[0m\n\u001b[1;32m      9\u001b[0m \u001b[0;34m\u001b[0m\u001b[0m\n\u001b[1;32m     10\u001b[0m \u001b[0;34m\u001b[0m\u001b[0m\n\u001b[0;32m---> 11\u001b[0;31m \u001b[0mprint\u001b[0m\u001b[0;34m(\u001b[0m\u001b[0msol\u001b[0m\u001b[0;34m(\u001b[0m\u001b[0mmap_list\u001b[0m\u001b[0;34m,\u001b[0m \u001b[0mnow_cha\u001b[0m\u001b[0;34m,\u001b[0m \u001b[0msee_cha\u001b[0m\u001b[0;34m,\u001b[0m \u001b[0mn\u001b[0m\u001b[0;34m,\u001b[0m\u001b[0mm\u001b[0m\u001b[0;34m)\u001b[0m\u001b[0;34m)\u001b[0m\u001b[0;34m\u001b[0m\u001b[0;34m\u001b[0m\u001b[0m\n\u001b[0m\u001b[1;32m     12\u001b[0m \u001b[0;34m\u001b[0m\u001b[0m\n",
      "\u001b[0;32m<ipython-input-14-27dec96f0c95>\u001b[0m in \u001b[0;36msol\u001b[0;34m(map_list, now_cha, see_cha, n, m)\u001b[0m\n\u001b[1;32m     13\u001b[0m \u001b[0;34m\u001b[0m\u001b[0m\n\u001b[1;32m     14\u001b[0m \u001b[0;34m\u001b[0m\u001b[0m\n\u001b[0;32m---> 15\u001b[0;31m         \u001b[0;32mif\u001b[0m \u001b[0mnew_cha\u001b[0m \u001b[0;34m==\u001b[0m \u001b[0mnow_cha\u001b[0m\u001b[0;34m:\u001b[0m\u001b[0;34m\u001b[0m\u001b[0;34m\u001b[0m\u001b[0m\n\u001b[0m\u001b[1;32m     16\u001b[0m             \u001b[0mcount\u001b[0m\u001b[0;34m+=\u001b[0m\u001b[0;36m1\u001b[0m\u001b[0;34m\u001b[0m\u001b[0;34m\u001b[0m\u001b[0m\n\u001b[1;32m     17\u001b[0m             \u001b[0;32mcontinue\u001b[0m\u001b[0;34m\u001b[0m\u001b[0;34m\u001b[0m\u001b[0m\n",
      "\u001b[0;31mNameError\u001b[0m: name 'new_cha' is not defined"
     ]
    }
   ],
   "source": [
    "n = 4\n",
    "m = 4\n",
    "\n",
    "now_cha = [1,1]\n",
    "see_cha = 0\n",
    "\n",
    "map_list = [[1,1,1,1],[1,0,0,1],[1,1,0,1],[1,1,1,1]]\n",
    "# 1은 바다 0 은 육지\n",
    "\n",
    "\n",
    "print(sol(map_list, now_cha, see_cha, n,m))\n",
    "\n"
   ]
  },
  {
   "cell_type": "code",
   "execution_count": 14,
   "id": "0c4f31b3",
   "metadata": {},
   "outputs": [],
   "source": [
    "def sol(map_list, now_cha, see_cha, n,m ):\n",
    "    \n",
    "    list_dire = [0,1,2,3]\n",
    "    \n",
    "    \n",
    "    list_cha_map = [now_cha]\n",
    "    count = 0\n",
    "    while True:\n",
    "        see_cha = change_dire(see_cha)\n",
    "        \n",
    "        \n",
    "        \n",
    "        \n",
    "        \n",
    "        if new_cha == now_cha:\n",
    "            count+=1\n",
    "            continue\n",
    "        elif map_list[new_cha[0]][new_cha[1]] == 1:\n",
    "            count+=1\n",
    "            continue\n",
    "        elif new_cha in list_cha_map:\n",
    "            count+=1\n",
    "            continue\n",
    "        elif -1 in new_cha:\n",
    "            count+=1\n",
    "            continue\n",
    "        else:\n",
    "            now_cha = new_cha\n",
    "            list_cha_map.append(now_cha)\n",
    "        \n",
    "        if count >=4:\n",
    "            break\n",
    "        \n",
    "            \n",
    "            \n",
    "            \n",
    "            \n",
    "\n",
    "    return len(list_cha_map)\n",
    "\n",
    "            \n",
    "        \n",
    "        \n",
    "        \n",
    "    \n",
    "    \n",
    "    "
   ]
  },
  {
   "cell_type": "code",
   "execution_count": 15,
   "id": "6dc6a7ed",
   "metadata": {},
   "outputs": [],
   "source": [
    "def change_dire(see_cha):\n",
    "    if see_cha == 0:\n",
    "        see_cha = 3\n",
    "    else:\n",
    "        see_cha-1\n",
    "        \n",
    "    return see_cha"
   ]
  },
  {
   "cell_type": "code",
   "execution_count": 16,
   "id": "392045b1",
   "metadata": {},
   "outputs": [],
   "source": [
    "def move(now_cha, see_cha,list_cha_map):\n",
    "    if see_cha == 0 and not ([now_cha[0]-1,now_cha[1]] in list_cha_map):\n",
    "        now_cha[0] -=1 \n",
    "    elif see_cha ==1 and not ([now_cha[0],now_cha[1]+1] in list_cha_map):\n",
    "        now_cha[1] +=1\n",
    "    elif see_cha ==2 and not ([now_cha[0]+1,now_cha[1]] in list_cha_map):\n",
    "        now_cha[0] +=1\n",
    "    elif see_cha ==3 and not ([now_cha[0],now_cha[1]-1] in list_cha_map):\n",
    "        now_cha[1] -=1\n",
    "        \n",
    "    return now_cha"
   ]
  },
  {
   "cell_type": "code",
   "execution_count": null,
   "id": "2eaa4af4",
   "metadata": {},
   "outputs": [],
   "source": []
  }
 ],
 "metadata": {
  "kernelspec": {
   "display_name": "Python 3",
   "language": "python",
   "name": "python3"
  },
  "language_info": {
   "codemirror_mode": {
    "name": "ipython",
    "version": 3
   },
   "file_extension": ".py",
   "mimetype": "text/x-python",
   "name": "python",
   "nbconvert_exporter": "python",
   "pygments_lexer": "ipython3",
   "version": "3.9.4"
  }
 },
 "nbformat": 4,
 "nbformat_minor": 5
}
