{
 "cells": [
  {
   "cell_type": "code",
   "execution_count": 31,
   "id": "d6fc2658",
   "metadata": {},
   "outputs": [
    {
     "name": "stdout",
     "output_type": "stream",
     "text": [
      "6550\n",
      "14\n"
     ]
    }
   ],
   "source": [
    "money = input()\n",
    "money = int(money)\n",
    "count = 0\n",
    "coins = [500,100,50,10]\n",
    "\n",
    "for coin in coins:\n",
    "    count+= money//coin\n",
    "    money = money%coin\n",
    "\n",
    "print(count)"
   ]
  },
  {
   "cell_type": "code",
   "execution_count": 303,
   "id": "4a99026e",
   "metadata": {},
   "outputs": [],
   "source": [
    "def count_coin(coins, money, count_list,count):\n",
    "    if money == 0:\n",
    "        count_list.append(count)\n",
    "        return\n",
    "    \n",
    "    for coin in coins:\n",
    "        money2 = money\n",
    "        if coin <= money2:\n",
    "            money2 -= coin\n",
    "            count_coin(coins, money2, count_list,count+1)                   \n",
    "    return"
   ]
  },
  {
   "cell_type": "code",
   "execution_count": 304,
   "id": "c949c8ae",
   "metadata": {},
   "outputs": [
    {
     "name": "stdout",
     "output_type": "stream",
     "text": [
      "3\n"
     ]
    }
   ],
   "source": [
    "import math\n",
    "\n",
    "money = 1300\n",
    "coins = [500,400,300,100]\n",
    "\n",
    "count_list = []\n",
    "count_coin(coins, money, count_list,0)\n",
    "\n",
    "print(min(count_list))\n"
   ]
  },
  {
   "cell_type": "code",
   "execution_count": null,
   "id": "91e8f9c0",
   "metadata": {},
   "outputs": [],
   "source": []
  }
 ],
 "metadata": {
  "kernelspec": {
   "display_name": "Python 3",
   "language": "python",
   "name": "python3"
  },
  "language_info": {
   "codemirror_mode": {
    "name": "ipython",
    "version": 3
   },
   "file_extension": ".py",
   "mimetype": "text/x-python",
   "name": "python",
   "nbconvert_exporter": "python",
   "pygments_lexer": "ipython3",
   "version": "3.9.4"
  }
 },
 "nbformat": 4,
 "nbformat_minor": 5
}
