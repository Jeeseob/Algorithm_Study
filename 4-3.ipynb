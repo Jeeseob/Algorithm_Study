{
 "cells": [
  {
   "cell_type": "code",
   "execution_count": 22,
   "id": "f2abfd06",
   "metadata": {},
   "outputs": [],
   "source": [
    "def sol(position):\n",
    "    make_int = {'a':1,'b':2,'c':3,'d':4,'e':5,'f':6,'g':7,'h':8}\n",
    "    x = make_int[position[0]]\n",
    "    y = int(position[1])\n",
    "    \n",
    "    answer = 0\n",
    "    answer = move(x,y,2,answer)\n",
    "    answer = move(x,y,-2,answer)\n",
    "    answer = move(y,x,2, answer)\n",
    "    answer = move(y,x,-2, answer)\n",
    "    \n",
    "    return answer"
   ]
  },
  {
   "cell_type": "code",
   "execution_count": 29,
   "id": "9e022bc1",
   "metadata": {},
   "outputs": [],
   "source": [
    "def move(x,y,i,answer):\n",
    "    if (x+i) <= 8 and (x+i)>=1:\n",
    "        if y+1 <=8:\n",
    "            answer +=1\n",
    "        if y-1 >=1:\n",
    "            answer +=1\n",
    "    return answer"
   ]
  },
  {
   "cell_type": "code",
   "execution_count": 30,
   "id": "1df7ac32",
   "metadata": {},
   "outputs": [
    {
     "name": "stdout",
     "output_type": "stream",
     "text": [
      "c2\n",
      "6\n"
     ]
    }
   ],
   "source": [
    "position = input()\n",
    "\n",
    "print(sol(position))"
   ]
  },
  {
   "cell_type": "code",
   "execution_count": null,
   "id": "84d7ecc5",
   "metadata": {},
   "outputs": [],
   "source": []
  }
 ],
 "metadata": {
  "kernelspec": {
   "display_name": "Python 3",
   "language": "python",
   "name": "python3"
  },
  "language_info": {
   "codemirror_mode": {
    "name": "ipython",
    "version": 3
   },
   "file_extension": ".py",
   "mimetype": "text/x-python",
   "name": "python",
   "nbconvert_exporter": "python",
   "pygments_lexer": "ipython3",
   "version": "3.9.4"
  }
 },
 "nbformat": 4,
 "nbformat_minor": 5
}
