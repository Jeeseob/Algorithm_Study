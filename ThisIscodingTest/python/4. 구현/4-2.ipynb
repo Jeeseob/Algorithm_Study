{
 "cells": [
  {
   "cell_type": "code",
   "execution_count": 55,
   "id": "05c58d5c",
   "metadata": {},
   "outputs": [
    {
     "name": "stdout",
     "output_type": "stream",
     "text": [
      "5\n",
      "11475\n"
     ]
    }
   ],
   "source": [
    "n = input()\n",
    "\n",
    "\n",
    "answer = sol(int(n))\n",
    "print(answer)"
   ]
  },
  {
   "cell_type": "code",
   "execution_count": 54,
   "id": "e37ca1d7",
   "metadata": {},
   "outputs": [],
   "source": [
    "def sol(num):\n",
    "    count_ms = 0\n",
    "    for i in range(60):\n",
    "        if '3' in str(i):\n",
    "            count_ms +=1\n",
    "    \n",
    "    s = count_ms\n",
    "    m = ((60*s)*2) - (s*s)\n",
    "    \n",
    "    count = 0\n",
    "    for n in range(num):\n",
    "        if '3' in str(n):\n",
    "            count +=1\n",
    "            \n",
    "    h = (m*(num+1-count))+(60*60)*count\n",
    "    \n",
    "    answer = h\n",
    "    \n",
    "    return answer"
   ]
  },
  {
   "cell_type": "code",
   "execution_count": null,
   "id": "5c97c044",
   "metadata": {},
   "outputs": [],
   "source": []
  }
 ],
 "metadata": {
  "kernelspec": {
   "display_name": "Python 3",
   "language": "python",
   "name": "python3"
  },
  "language_info": {
   "codemirror_mode": {
    "name": "ipython",
    "version": 3
   },
   "file_extension": ".py",
   "mimetype": "text/x-python",
   "name": "python",
   "nbconvert_exporter": "python",
   "pygments_lexer": "ipython3",
   "version": "3.9.4"
  }
 },
 "nbformat": 4,
 "nbformat_minor": 5
}
