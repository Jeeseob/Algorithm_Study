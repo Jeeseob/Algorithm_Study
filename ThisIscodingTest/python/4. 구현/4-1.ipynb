{
 "cells": [
  {
   "cell_type": "markdown",
   "id": "39a1dd58",
   "metadata": {},
   "source": [
    " ### 상하좌우"
   ]
  },
  {
   "cell_type": "code",
   "execution_count": 6,
   "id": "7f873e66",
   "metadata": {},
   "outputs": [],
   "source": [
    "def sol(n, move):\n",
    "\n",
    "    count = [1,1]\n",
    "    move_list = move.split(' ')\n",
    "\n",
    "    for i in move_list:\n",
    "        if i == 'R':\n",
    "            if not count[1] == n:\n",
    "                count[1] +=1\n",
    "\n",
    "        elif i == 'L':\n",
    "            if not count[1] == 1:\n",
    "                count[1] -=1\n",
    "\n",
    "        elif i == 'D':\n",
    "            if not count[0] == n:\n",
    "                count[0] +=1\n",
    "\n",
    "        elif i == 'U':\n",
    "            if not count[0] == 1:\n",
    "                count[0] -=1\n",
    "        else:\n",
    "            print(\"ERROR\")\n",
    "            break\n",
    "\n",
    "    return count"
   ]
  },
  {
   "cell_type": "code",
   "execution_count": 7,
   "id": "ab7d85f0",
   "metadata": {},
   "outputs": [
    {
     "name": "stdout",
     "output_type": "stream",
     "text": [
      "5\n",
      "R R L R\n",
      "[1, 3]\n"
     ]
    }
   ],
   "source": [
    "n = input()\n",
    "move = input()\n",
    "\n",
    "print(sol(n,move))"
   ]
  },
  {
   "cell_type": "code",
   "execution_count": null,
   "id": "4b7dc1a4",
   "metadata": {},
   "outputs": [],
   "source": []
  },
  {
   "cell_type": "code",
   "execution_count": null,
   "id": "81cf150e",
   "metadata": {},
   "outputs": [],
   "source": []
  },
  {
   "cell_type": "code",
   "execution_count": null,
   "id": "20099953",
   "metadata": {},
   "outputs": [],
   "source": []
  },
  {
   "cell_type": "code",
   "execution_count": null,
   "id": "3949296e",
   "metadata": {},
   "outputs": [],
   "source": []
  }
 ],
 "metadata": {
  "kernelspec": {
   "display_name": "Python 3",
   "language": "python",
   "name": "python3"
  },
  "language_info": {
   "codemirror_mode": {
    "name": "ipython",
    "version": 3
   },
   "file_extension": ".py",
   "mimetype": "text/x-python",
   "name": "python",
   "nbconvert_exporter": "python",
   "pygments_lexer": "ipython3",
   "version": "3.9.4"
  }
 },
 "nbformat": 4,
 "nbformat_minor": 5
}
