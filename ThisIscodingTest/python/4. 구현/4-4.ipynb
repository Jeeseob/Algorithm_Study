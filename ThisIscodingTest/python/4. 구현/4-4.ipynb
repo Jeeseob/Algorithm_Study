{
 "cells": [
  {
   "cell_type": "code",
   "execution_count": 43,
   "id": "8351e166",
   "metadata": {},
   "outputs": [
    {
     "name": "stdout",
     "output_type": "stream",
     "text": [
      "[1, 1] 1\n",
      "[1, 0] 2\n",
      "[1, 0] 1\n",
      "[1, -1] 2\n",
      "[1, -1] 1\n",
      "[1, -2] 2\n",
      "[1, -2] 1\n",
      "[1, -3] 2\n",
      "1\n"
     ]
    }
   ],
   "source": [
    "n = 4\n",
    "m = 4\n",
    "\n",
    "now_cha = [1,1]\n",
    "see_cha = 0\n",
    "\n",
    "map_list = [[1,1,1,1],[1,0,0,1],[1,1,0,1],[1,1,1,1]]\n",
    "# 1은 바다 0 은 육지\n",
    "\n",
    "\n",
    "print(sol(map_list, now_cha, see_cha, n,m))\n",
    "\n"
   ]
  },
  {
   "cell_type": "code",
   "execution_count": 42,
   "id": "6a9e1721",
   "metadata": {},
   "outputs": [],
   "source": [
    "def sol(map_list, now_cha, see_cha, n,m ):\n",
    "    \n",
    "    list_dire = [0,1,2,3]\n",
    "    \n",
    "    \n",
    "    list_cha_map = [now_cha]\n",
    "    count = 0\n",
    "    while count<4:\n",
    "        \n",
    "        see_cha = change_dire(see_cha)\n",
    "        print(now_cha,1)\n",
    "        new_cha = now_cha\n",
    "        new_cha = move(new_cha, see_cha,list_cha_map)\n",
    "        print(now_cha,2)\n",
    "        \n",
    "        if new_cha == now_cha:\n",
    "            count+=1\n",
    "            continue\n",
    "        elif map_list[new_cha[0]][new_cha[1]] == 1:\n",
    "            count+=1\n",
    "            continue\n",
    "        elif new_cha in list_cha_map:\n",
    "            count+=1\n",
    "            continue\n",
    "        elif -1 in new_cha:\n",
    "            count+=1\n",
    "            continue\n",
    "        else:\n",
    "            now_cha = new_cha\n",
    "            list_cha_map.append(now_cha)\n",
    "            count = 0\n",
    "        \n",
    "        \n",
    "            \n",
    "            \n",
    "            \n",
    "            \n",
    "\n",
    "    return len(list_cha_map)\n",
    "\n",
    "            \n",
    "        \n",
    "        \n",
    "        \n",
    "    \n",
    "    \n",
    "    "
   ]
  },
  {
   "cell_type": "code",
   "execution_count": 39,
   "id": "21f50d3d",
   "metadata": {},
   "outputs": [],
   "source": [
    "def change_dire(see_cha):\n",
    "    if see_cha == 0:\n",
    "        see_cha = 3\n",
    "    else:\n",
    "        see_cha-1\n",
    "        \n",
    "    return see_cha"
   ]
  },
  {
   "cell_type": "code",
   "execution_count": 40,
   "id": "9970d82f",
   "metadata": {},
   "outputs": [],
   "source": [
    "def move(now_cha, see_cha,list_cha_map):\n",
    "    if see_cha == 0 and not ([now_cha[0]-1,now_cha[1]] in list_cha_map):\n",
    "        now_cha[0] -=1 \n",
    "    elif see_cha ==1 and not ([now_cha[0],now_cha[1]+1] in list_cha_map):\n",
    "        now_cha[1] +=1\n",
    "    elif see_cha ==2 and not ([now_cha[0]+1,now_cha[1]] in list_cha_map):\n",
    "        now_cha[0] +=1\n",
    "    elif see_cha ==3 and not ([now_cha[0],now_cha[1]-1] in list_cha_map):\n",
    "        now_cha[1] -=1\n",
    "        \n",
    "    return now_cha"
   ]
  },
  {
   "cell_type": "code",
   "execution_count": null,
   "id": "87b9412e",
   "metadata": {},
   "outputs": [],
   "source": []
  }
 ],
 "metadata": {
  "kernelspec": {
   "display_name": "Python 3",
   "language": "python",
   "name": "python3"
  },
  "language_info": {
   "codemirror_mode": {
    "name": "ipython",
    "version": 3
   },
   "file_extension": ".py",
   "mimetype": "text/x-python",
   "name": "python",
   "nbconvert_exporter": "python",
   "pygments_lexer": "ipython3",
   "version": "3.9.4"
  }
 },
 "nbformat": 4,
 "nbformat_minor": 5
}
