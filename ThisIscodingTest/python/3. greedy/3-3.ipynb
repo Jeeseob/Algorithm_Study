{
 "cells": [
  {
   "cell_type": "code",
   "execution_count": 36,
   "id": "6aa32b30",
   "metadata": {},
   "outputs": [],
   "source": [
    "def sol(maps):\n",
    "    a = []\n",
    "    for i in range(len(maps)):\n",
    "        a.append(min(maps[i]))\n",
    "    return max(a)\n"
   ]
  },
  {
   "cell_type": "code",
   "execution_count": 43,
   "id": "9125e62f",
   "metadata": {},
   "outputs": [
    {
     "name": "stdout",
     "output_type": "stream",
     "text": [
      "4\n",
      "2\n",
      "7 3 1 8\n",
      "3 3 3 4\n",
      "3\n"
     ]
    }
   ],
   "source": [
    "m = input()\n",
    "n = input()\n",
    "\n",
    "maps = []\n",
    "\n",
    "for i in range(int(n)):\n",
    "        maps.append(input().split(' '))\n",
    "        \n",
    "print(sol(maps))"
   ]
  },
  {
   "cell_type": "code",
   "execution_count": 38,
   "id": "aadb572d",
   "metadata": {},
   "outputs": [
    {
     "name": "stdout",
     "output_type": "stream",
     "text": [
      "2\n",
      "3\n"
     ]
    }
   ],
   "source": [
    "m = 3\n",
    "n = 3\n",
    "\n",
    "maps = [[3,1,2],[4,1,4],[2,2,2]]\n",
    "maps2 = [[7,3,1,8],[3,3,3,4]]\n",
    "\n",
    "print(sol(maps))\n",
    "print(sol(maps2))\n"
   ]
  },
  {
   "cell_type": "code",
   "execution_count": null,
   "id": "61bc422f",
   "metadata": {},
   "outputs": [],
   "source": []
  }
 ],
 "metadata": {
  "kernelspec": {
   "display_name": "Python 3",
   "language": "python",
   "name": "python3"
  },
  "language_info": {
   "codemirror_mode": {
    "name": "ipython",
    "version": 3
   },
   "file_extension": ".py",
   "mimetype": "text/x-python",
   "name": "python",
   "nbconvert_exporter": "python",
   "pygments_lexer": "ipython3",
   "version": "3.9.4"
  }
 },
 "nbformat": 4,
 "nbformat_minor": 5
}
