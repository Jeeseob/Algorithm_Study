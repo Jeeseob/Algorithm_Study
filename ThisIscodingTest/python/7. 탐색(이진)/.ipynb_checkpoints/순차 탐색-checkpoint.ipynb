{
 "cells": [
  {
   "cell_type": "markdown",
   "id": "c266d9a8",
   "metadata": {},
   "source": [
    "### 7-1.py\n",
    "\n",
    "순차탐색 나름대로 구현해보기\n",
    "- 순차탐색은 N개의 데이터를 하나씩 비교해보며 원하는 값을 찾아내는 탐색방법이다.\n",
    "- 보통 정렬되지 않은 리스트에서 데이터를 찾아야할때 사용한다.\n",
    "- 데이터가 많아도 원하는 데이터를 항상 찾을 수 있다는 장점이 있다.\n",
    "- 시간복잡도는 최대값이 O(N) 일듯"
   ]
  },
  {
   "cell_type": "code",
   "execution_count": 10,
   "id": "950f7277",
   "metadata": {},
   "outputs": [],
   "source": [
    "def find_str(findStr, text):\n",
    "    array = text.split(\" \")\n",
    "    for i in range(len(array)):\n",
    "        if array[i] == findStr:\n",
    "            return i+1\n",
    "    return 0"
   ]
  },
  {
   "cell_type": "code",
   "execution_count": 12,
   "id": "dc3805b8",
   "metadata": {},
   "outputs": [],
   "source": [
    "def make_answer(findStr, text):\n",
    "    index = find_str(findStr, text)\n",
    "    if index == 0:\n",
    "        return \"Not Found\"\n",
    "    else:\n",
    "        return (str(index)+\" \"+ findStr)"
   ]
  },
  {
   "cell_type": "code",
   "execution_count": 13,
   "id": "97d189de",
   "metadata": {},
   "outputs": [
    {
     "name": "stdout",
     "output_type": "stream",
     "text": [
      "3 Dongbin\n"
     ]
    }
   ],
   "source": [
    "text = \"Hanul Jonggu Dongbin Taeil Sangwook\"\n",
    "finStr = \"Dongbin\"\n",
    "\n",
    "print(make_answer(finStr, text))\n"
   ]
  },
  {
   "cell_type": "code",
   "execution_count": null,
   "id": "46511985",
   "metadata": {},
   "outputs": [],
   "source": []
  }
 ],
 "metadata": {
  "kernelspec": {
   "display_name": "Python 3",
   "language": "python",
   "name": "python3"
  },
  "language_info": {
   "codemirror_mode": {
    "name": "ipython",
    "version": 3
   },
   "file_extension": ".py",
   "mimetype": "text/x-python",
   "name": "python",
   "nbconvert_exporter": "python",
   "pygments_lexer": "ipython3",
   "version": "3.9.4"
  }
 },
 "nbformat": 4,
 "nbformat_minor": 5
}
