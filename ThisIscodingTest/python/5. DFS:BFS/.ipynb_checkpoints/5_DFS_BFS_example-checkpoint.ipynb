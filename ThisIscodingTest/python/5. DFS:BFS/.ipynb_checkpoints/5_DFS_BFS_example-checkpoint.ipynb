{
 "cells": [
  {
   "cell_type": "markdown",
   "id": "91ff8cf2",
   "metadata": {},
   "source": [
    "# Graph"
   ]
  },
  {
   "cell_type": "markdown",
   "id": "a72c3aa0",
   "metadata": {},
   "source": [
    "프로그래밍언어에서는 그래프를 크게 두가지 방식으로 표현한다\n",
    "\n",
    "인접 행렬(Adjacency Matrix)  \n",
    "\n",
    "- 2차원 배열로 그래프의 연결관계를 표현하는 방식(파이썬에서 사용)\n",
    "- 메모리가 불필요하게 낭비됨(같은 연결을 두번 저장)\n",
    "\n",
    "인접 리스트(Adjacency List)   \n",
    "\n",
    "- 리스트(linked list)로 그래프의 연결관계를 표현하는 방식(C,C++, JAVA 등 정통적인 프로그래밍 언어에서 사용가능)\n",
    "- 정보를 얻는 속도가 느림(연결된 데이터를 하나씩 확인해야함)\n",
    "\n",
    "파이썬에서는 그래프 표현시 2차원 리스트(인접 행렬)를 사용한다."
   ]
  },
  {
   "cell_type": "code",
   "execution_count": 1,
   "id": "868d3e37",
   "metadata": {},
   "outputs": [],
   "source": [
    "graph = [[] for _ in range(3)]"
   ]
  },
  {
   "cell_type": "code",
   "execution_count": 4,
   "id": "9a1834eb",
   "metadata": {},
   "outputs": [],
   "source": [
    "# 0번째 노드와 연결된 노드 정보 저장\n",
    "# (몇번 째 노드와, 얼마의 거리로 연결되어 있는지)\n",
    "graph[0].append((1,7))\n",
    "graph[0].append((2,5))\n",
    "\n",
    "graph[1].append((0,7))\n",
    "graph[2].append((0,5))"
   ]
  },
  {
   "cell_type": "code",
   "execution_count": 5,
   "id": "622cd9b6",
   "metadata": {
    "scrolled": false
   },
   "outputs": [
    {
     "name": "stdout",
     "output_type": "stream",
     "text": [
      "[[(1, 7), (2, 5), (1, 7), (2, 5)], [(0, 7)], [(0, 5)]]\n"
     ]
    }
   ],
   "source": [
    "print(graph)"
   ]
  },
  {
   "cell_type": "markdown",
   "id": "c55ab9b1",
   "metadata": {},
   "source": [
    "### 탐색 예제에 활용할 그래프"
   ]
  },
  {
   "cell_type": "code",
   "execution_count": 20,
   "id": "76dee1eb",
   "metadata": {},
   "outputs": [],
   "source": [
    "graph = [[1],\n",
    "         [0,2,3,8],\n",
    "         [1,7],\n",
    "         [1,4,5],\n",
    "         [3,5],\n",
    "         [3,4],\n",
    "         [7],\n",
    "         [2,6,8],\n",
    "         [1,7]]"
   ]
  },
  {
   "cell_type": "markdown",
   "id": "a02cb82a",
   "metadata": {},
   "source": [
    "# DFS\n"
   ]
  },
  {
   "cell_type": "markdown",
   "id": "9d684df2",
   "metadata": {},
   "source": [
    "DFS는 Depth-First Search 즉 깊이 우선 탐색이다.   \n",
    "\n",
    "그래프에서 깊은 부분을 우선적으로 탐색하는 알고리즘이다.\n",
    "\n",
    "주로 Stack 자료구조를 활용하여 탐색한다.(아래 예제에서는 사용X)"
   ]
  },
  {
   "cell_type": "markdown",
   "id": "5687c3a1",
   "metadata": {},
   "source": [
    "\n"
   ]
  },
  {
   "cell_type": "code",
   "execution_count": 21,
   "id": "1c7c334d",
   "metadata": {
    "scrolled": true
   },
   "outputs": [],
   "source": [
    "def dfs(graph, v, visited):\n",
    "    #현재 노드를 방문 처리\n",
    "    visited[v] = True\n",
    "    print(v, end = ' ')\n",
    "    \n",
    "    for i in graph[v]:\n",
    "        if not visited[i]:\n",
    "            dfs(graph,i,visited)"
   ]
  },
  {
   "cell_type": "code",
   "execution_count": 40,
   "id": "ee882814",
   "metadata": {},
   "outputs": [
    {
     "name": "stdout",
     "output_type": "stream",
     "text": [
      "0 1 2 7 6 8 3 4 5 "
     ]
    }
   ],
   "source": [
    "visited = [False] * len(graph)\n",
    "dfs(graph, 0, visited)"
   ]
  },
  {
   "cell_type": "markdown",
   "id": "e6f8f6dc",
   "metadata": {},
   "source": [
    "# BFS"
   ]
  },
  {
   "cell_type": "markdown",
   "id": "ea20451b",
   "metadata": {},
   "source": [
    "BFS는 Breadth-First Search 즉 너비 우선 탐색이다.   \n",
    "\n",
    "그래프에서 인접한 부분을 우선적으로 탐색하는 알고리즘이다.\n",
    "\n",
    "주로 Queue 자료구조를 활용하여 탐색한다."
   ]
  },
  {
   "cell_type": "code",
   "execution_count": 42,
   "id": "27b46316",
   "metadata": {},
   "outputs": [],
   "source": [
    "from collections import deque\n",
    "\n",
    "def bfs(graph, start, visited):\n",
    "    # queue 구현 (재귀를 사용하지 않기 때문에 안에서 구현가능)\n",
    "    # 현재 노드 방문 처리\n",
    "    queue = deque([start])\n",
    "    visited[start] = True\n",
    "    #queue가 비어있지 않은 동안 반복\n",
    "    while queue:\n",
    "        # 하나의 원소 출력(이게 현재라고 보면 됨)\n",
    "        v = queue.popleft()\n",
    "        print(v, end = ' ')\n",
    "        # 현재 원소에 인접한 노드들 중 방문하지 않은 노드는 queue에 삽입\n",
    "        for i in graph[v]:\n",
    "            if not visited[i]:\n",
    "                queue.append(i)\n",
    "                visited[i] = True  "
   ]
  },
  {
   "cell_type": "code",
   "execution_count": 43,
   "id": "922bd948",
   "metadata": {},
   "outputs": [
    {
     "name": "stdout",
     "output_type": "stream",
     "text": [
      "0 1 2 3 8 7 4 5 6 "
     ]
    }
   ],
   "source": [
    "visited = [False] * len(graph)\n",
    "bfs(graph, 0, visited)"
   ]
  },
  {
   "cell_type": "code",
   "execution_count": null,
   "id": "e16278dc",
   "metadata": {},
   "outputs": [],
   "source": []
  }
 ],
 "metadata": {
  "kernelspec": {
   "display_name": "Python 3",
   "language": "python",
   "name": "python3"
  },
  "language_info": {
   "codemirror_mode": {
    "name": "ipython",
    "version": 3
   },
   "file_extension": ".py",
   "mimetype": "text/x-python",
   "name": "python",
   "nbconvert_exporter": "python",
   "pygments_lexer": "ipython3",
   "version": "3.9.4"
  }
 },
 "nbformat": 4,
 "nbformat_minor": 5
}
