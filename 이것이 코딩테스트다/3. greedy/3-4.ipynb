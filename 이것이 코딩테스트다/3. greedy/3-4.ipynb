{
 "cells": [
  {
   "cell_type": "code",
   "execution_count": 1,
   "id": "56bc627d",
   "metadata": {},
   "outputs": [
    {
     "name": "stdout",
     "output_type": "stream",
     "text": [
      "2\n",
      "2\n"
     ]
    }
   ],
   "source": [
    "n = input()\n",
    "n = int(n)\n",
    "k = input()\n",
    "k = int(k)"
   ]
  },
  {
   "cell_type": "code",
   "execution_count": 5,
   "id": "3cc25b09",
   "metadata": {},
   "outputs": [
    {
     "name": "stdout",
     "output_type": "stream",
     "text": [
      "0\n"
     ]
    }
   ],
   "source": [
    "print(n%k)"
   ]
  },
  {
   "cell_type": "code",
   "execution_count": 6,
   "id": "b34ee086",
   "metadata": {},
   "outputs": [],
   "source": [
    "def sol(n,k):\n",
    "    count = 0\n",
    "    while n != 1:\n",
    "        count +=1\n",
    "        if n%k == 0:\n",
    "            n = n//k\n",
    "        else:\n",
    "            n -=1\n",
    "    return count"
   ]
  },
  {
   "cell_type": "code",
   "execution_count": 9,
   "id": "61f5fdca",
   "metadata": {},
   "outputs": [
    {
     "name": "stdout",
     "output_type": "stream",
     "text": [
      "2\n",
      "3\n"
     ]
    }
   ],
   "source": [
    "print(sol(25,5))\n",
    "print(sol(17,4))"
   ]
  },
  {
   "cell_type": "code",
   "execution_count": null,
   "id": "3fc1e616",
   "metadata": {},
   "outputs": [],
   "source": []
  }
 ],
 "metadata": {
  "kernelspec": {
   "display_name": "Python 3",
   "language": "python",
   "name": "python3"
  },
  "language_info": {
   "codemirror_mode": {
    "name": "ipython",
    "version": 3
   },
   "file_extension": ".py",
   "mimetype": "text/x-python",
   "name": "python",
   "nbconvert_exporter": "python",
   "pygments_lexer": "ipython3",
   "version": "3.9.4"
  }
 },
 "nbformat": 4,
 "nbformat_minor": 5
}
