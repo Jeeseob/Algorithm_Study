{
 "cells": [
  {
   "cell_type": "markdown",
   "id": "456d025c",
   "metadata": {},
   "source": [
    "## 성적이 낮은 순서로 학생 출력하기\n",
    "6-11.py"
   ]
  },
  {
   "cell_type": "code",
   "execution_count": 3,
   "id": "624c53a6",
   "metadata": {},
   "outputs": [
    {
     "name": "stdout",
     "output_type": "stream",
     "text": [
      "2\n",
      "홍길동 95\n",
      "이순신 77\n"
     ]
    }
   ],
   "source": [
    "nameAndPoint = []\n",
    "studentNum = int(input())\n",
    "\n",
    "for count in range(studentNum):\n",
    "    nameAndPoint.append(input())"
   ]
  },
  {
   "cell_type": "code",
   "execution_count": 11,
   "id": "1624277b",
   "metadata": {},
   "outputs": [],
   "source": [
    "def sortPoint(nameAndPoint):\n",
    "    result = []\n",
    "    for count in range(len(nameAndPoint)):\n",
    "        data = nameAndPoint[count].split()\n",
    "        result.append((data[1],data[0]))\n",
    "    result.sort(key = lambda result:result[0])\n",
    "    return result"
   ]
  },
  {
   "cell_type": "code",
   "execution_count": 12,
   "id": "f303fcad",
   "metadata": {},
   "outputs": [
    {
     "name": "stdout",
     "output_type": "stream",
     "text": [
      "[('77', '이순신'), ('95', '홍길동')]\n"
     ]
    }
   ],
   "source": [
    "print(sortPoint(nameAndPoint))"
   ]
  },
  {
   "cell_type": "code",
   "execution_count": null,
   "id": "aa7423ea",
   "metadata": {},
   "outputs": [],
   "source": []
  }
 ],
 "metadata": {
  "kernelspec": {
   "display_name": "Python 3",
   "language": "python",
   "name": "python3"
  },
  "language_info": {
   "codemirror_mode": {
    "name": "ipython",
    "version": 3
   },
   "file_extension": ".py",
   "mimetype": "text/x-python",
   "name": "python",
   "nbconvert_exporter": "python",
   "pygments_lexer": "ipython3",
   "version": "3.9.4"
  }
 },
 "nbformat": 4,
 "nbformat_minor": 5
}
