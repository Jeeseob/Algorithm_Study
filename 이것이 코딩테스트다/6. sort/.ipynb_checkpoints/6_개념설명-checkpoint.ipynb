{
 "cells": [
  {
   "cell_type": "markdown",
   "id": "0dc0f3d3",
   "metadata": {},
   "source": [
    "# 정렬"
   ]
  },
  {
   "cell_type": "markdown",
   "id": "4d8db420",
   "metadata": {},
   "source": [
    "## 선택정렬 Selection Sort"
   ]
  },
  {
   "cell_type": "markdown",
   "id": "f3e55d20",
   "metadata": {},
   "source": [
    "선택정렬은의 연산 횟수는    \n",
    "N+(N-1)+(N-2)+...+2 이다.    \n",
    "이는 (N*(N+1))/2    \n",
    "즉 O(N<sup>2</sup>)이라고 볼 수 있다.\n"
   ]
  },
  {
   "cell_type": "code",
   "execution_count": 5,
   "id": "79ab4ef3",
   "metadata": {},
   "outputs": [
    {
     "name": "stdout",
     "output_type": "stream",
     "text": [
      "[0, 1, 2, 2, 3, 4, 5, 6, 7, 8, 9]\n"
     ]
    }
   ],
   "source": [
    "array = [7,5,9,0,3,2,1,6,2,4,8]\n",
    "\n",
    "for i in range(len(array)):\n",
    "    min_index = i\n",
    "    # i 값은 이미 min_index이기 때문에 따로 비교하지 않아도 된다. i+1부터 사용\n",
    "    for j in range(i+1,len(array)):\n",
    "        if array[j] < array[min_index]:\n",
    "            min_index = j\n",
    "    #swap 파이썬에서는 a,b = b,a 이러한 형태로 swap을 진행할 수 있다.\n",
    "    array[min_index], array[i] = array[i], array[min_index]\n",
    "    \n",
    "    \n",
    "print(array)"
   ]
  },
  {
   "cell_type": "code",
   "execution_count": null,
   "id": "76973918",
   "metadata": {},
   "outputs": [],
   "source": []
  },
  {
   "cell_type": "markdown",
   "id": "f0517ace",
   "metadata": {},
   "source": [
    "## 삽입정렬 Insertion Sort"
   ]
  },
  {
   "cell_type": "markdown",
   "id": "5196939f",
   "metadata": {},
   "source": [
    "삽입 정렬의 연산횟수는 \n",
    "최대(N-1)*(1+2+3+...+n-1)이다.    \n",
    "이는 (n<sup>2</sup>-n)/2 즉 O(n<sup>2</sup>)이다.   \n",
    "최대인 이유는 두번째 반복문에서 비교연산을 진행할때,   \n",
    "들어가는 위치에 따라 비교연산 횟수가 달라지기 때문이다."
   ]
  },
  {
   "cell_type": "code",
   "execution_count": 84,
   "id": "bbb6fe9c",
   "metadata": {
    "scrolled": true
   },
   "outputs": [
    {
     "name": "stdout",
     "output_type": "stream",
     "text": [
      "2\n",
      "4\n",
      "5\n",
      "6\n",
      "7\n",
      "8\n",
      "9\n",
      "10\n",
      "[0, 1, 2, 2, 3, 4, 5, 6, 7, 8, 9]\n"
     ]
    }
   ],
   "source": [
    "array = [7,5,9,0,3,2,1,6,2,4,8]\n",
    "\n",
    "for i in range(len(array)):\n",
    "    # index가 i부터 0까지 감소하도록 하는 문법\n",
    "    for j in range(i,0,-1):\n",
    "        # 한칸씩 왼쪽으로 이동하면서 자신보다 큰 경우 교체\n",
    "        if array[j] < array[j-1]:\n",
    "            array[j], array[j-1] = array[j-1], array[j]\n",
    "        # 한번 else문이 실행되면 이후 비교는 의미가 없기 때문에 바로 break\n",
    "        else:\n",
    "            break\n",
    "    \n",
    "print(array)"
   ]
  },
  {
   "cell_type": "code",
   "execution_count": 110,
   "id": "87f1dfe4",
   "metadata": {
    "scrolled": true
   },
   "outputs": [
    {
     "name": "stdout",
     "output_type": "stream",
     "text": [
      "[0, 1, 2, 2, 3, 4, 5, 6, 7, 7, 7, 8, 8, 8, 9]\n"
     ]
    }
   ],
   "source": [
    "array = [7,5,9,0,3,2,1,6,2,4,8,7,8,7,8]\n",
    "\n",
    "for i in range(1, len(array)):\n",
    "    # 교체하지 않고, insert와 del 을 사용하여 실제 삽입하듯 삽입정렬을 구현한다면?\n",
    "    for count in range(i,0,-1):\n",
    "        j = count-1\n",
    "       # 계속 오류가 있던 부분은 여기인데, 인덱스와 인덱스 사이에 넣는 부분과 애초에 맨 앞에 두는 부분을 구분함.\n",
    "        if j == 0 and array[i]< array[j]:\n",
    "            array.insert(0,array[i])\n",
    "            del(array[i+1])\n",
    "            break\n",
    "        \n",
    "        if array[i] >= array[j-1] and array[i] < array[j]:\n",
    "            array.insert(j,array[i])\n",
    "            del(array[i+1])\n",
    "            break\n",
    "\n",
    "print(array)"
   ]
  },
  {
   "cell_type": "code",
   "execution_count": null,
   "id": "ddd9bf7d",
   "metadata": {},
   "outputs": [],
   "source": []
  },
  {
   "cell_type": "markdown",
   "id": "4c86c538",
   "metadata": {},
   "source": [
    "## 퀵정렬 Quick Sort"
   ]
  },
  {
   "cell_type": "markdown",
   "id": "7da9f380",
   "metadata": {},
   "source": [
    "퀵 정렬은 pivot과 재귀함수를 사용하는 것이 특징이다.   \n",
    "\n",
    "퀵정렬의 연산횟수는 평균적으로 O(NlogN), 최대(N<sup>2</sup>이다.\n",
    "\n",
    "해당 코드는 list의 첫 index에 해당하는 값을 pivot으로 하는 코드이다.\n",
    "\n",
    "퀵정렬은 pivot의 선택에 따라 시간복잡도가 크게 달라진다."
   ]
  },
  {
   "cell_type": "code",
   "execution_count": 175,
   "id": "b93c23ef",
   "metadata": {
    "scrolled": true
   },
   "outputs": [
    {
     "name": "stdout",
     "output_type": "stream",
     "text": [
      "[0, 1, 1, 2, 3, 4, 5, 6, 7, 8, 9, 10, 11, 12, 13, 15, 16, 23]\n"
     ]
    }
   ],
   "source": [
    "array = [5,7,9,0,3,1,6,2,4,8,11,10,13,12,15,16,23,1]\n",
    "\n",
    "def quick_sort(array):\n",
    "    if len(array) <= 1:\n",
    "        return array\n",
    "    countRight = 0\n",
    "    countLeft = len(array)\n",
    "    pivot = array[0]\n",
    "    while True:\n",
    "        for i in range(1,len(array)):\n",
    "            if array[i]>pivot:\n",
    "                countLeft = i\n",
    "                break\n",
    "        for j in range(len(array),1,-1):\n",
    "            if array[j-1] < pivot:\n",
    "                countRight = j-1\n",
    "                break\n",
    "        if countLeft >= countRight:\n",
    "            array.insert(countRight+1, pivot)\n",
    "            del(array[0])\n",
    "            array[:countLeft] = quick_sort(array[:countLeft])\n",
    "            array[countRight+1:] = quick_sort(array[countRight+1:])\n",
    "            break\n",
    "            \n",
    "        if countLeft == len(array) and countRight == 0:\n",
    "            break\n",
    "        elif countLeft == len(array):\n",
    "            array[1:] = quick_sort(array[:-1])\n",
    "            break\n",
    "            \n",
    "        elif countRight == 0:\n",
    "            array[1:] = quick_sort(array[1:])\n",
    "            break\n",
    "            \n",
    "        else :\n",
    "            array[countLeft],array[countRight] = array[countRight], array[countLeft]\n",
    "    \n",
    "    return array\n",
    "            \n",
    "quick_sort(array)\n",
    "print(array)\n",
    "\n",
    "#꼭 array안에서 해결하려고 하니 다소 복잡해진 것 같다."
   ]
  },
  {
   "cell_type": "markdown",
   "id": "d81313ca",
   "metadata": {},
   "source": [
    "파이썬의 특성을 활용하면 이렇게 간단하게 구성할 수 있다."
   ]
  },
  {
   "cell_type": "code",
   "execution_count": 8,
   "id": "3d59ba19",
   "metadata": {},
   "outputs": [
    {
     "name": "stdout",
     "output_type": "stream",
     "text": [
      "[0, 1, 1, 2, 3, 4, 5, 6, 7, 8, 9, 10, 11, 12, 13, 15, 16, 23]\n"
     ]
    }
   ],
   "source": [
    "array = [5,7,9,0,3,1,6,2,4,8,11,10,13,12,15,16,23,1]\n",
    "\n",
    "def quick_sort_python(array):\n",
    "    # array의 길이가 1이면 retrun\n",
    "    if len(array) <=1:\n",
    "        return array\n",
    "    # 첫번째 index를 pivot으로 지정\n",
    "    pivot = array[0]\n",
    "    tail = array[1:]\n",
    "    \n",
    "    left_side = [x for x in tail if x <= pivot]\n",
    "    right_side = [x for x in tail if x > pivot]\n",
    "    \n",
    "    return quick_sort_python(left_side) + [pivot] + quick_sort_python(right_side)\n",
    "\n",
    "print(quick_sort_python(array))"
   ]
  },
  {
   "cell_type": "markdown",
   "id": "542b8dbf",
   "metadata": {},
   "source": [
    "해당 원리를 이해한 후 구성해본 코드   \n",
    "for 문을 배열의 원소를 넣을 때 사용하는 것에 익숙해 지면 좋겠다.    \n",
    "처음 배열을 선언할때 좋은 것 같다."
   ]
  },
  {
   "cell_type": "code",
   "execution_count": 12,
   "id": "35bccc57",
   "metadata": {},
   "outputs": [
    {
     "name": "stdout",
     "output_type": "stream",
     "text": [
      "[0, 1, 1, 2, 3, 4, 5, 6, 7, 8, 9, 10, 11, 12, 13, 15, 16, 23]\n"
     ]
    }
   ],
   "source": [
    "array = [5,7,9,0,3,1,6,2,4,8,11,10,13,12,15,16,23,1]\n",
    "\n",
    "def quick_sort(array):\n",
    "    if len(array) <= 1:\n",
    "        return array\n",
    "    \n",
    "    countRight = []\n",
    "    countLeft = []\n",
    "    pivot = array[0]\n",
    "    \n",
    "    for i in range(1,len(array)):\n",
    "        if array[i] < pivot:\n",
    "            countLeft.append(array[i])\n",
    "        else :\n",
    "            countRight.append(array[i])\n",
    "\n",
    "    return quick_sort(countLeft) + [pivot] + quick_sort(countRight)\n",
    "            \n",
    "print(quick_sort(array))"
   ]
  },
  {
   "cell_type": "markdown",
   "id": "c1503d65",
   "metadata": {},
   "source": [
    "## 계수정렬 Count Sort"
   ]
  },
  {
   "cell_type": "markdown",
   "id": "b04034d0",
   "metadata": {},
   "source": [
    "계수정렬은 특정한 조건이 부합할때 사용가능하지만 매우 빠른 방식이다.   \n",
    "공간복잡도가 굉장히 크고... 시간복잡도는 O(N+K)이다.   \n",
    "\n",
    "기존의 값들을 비교하는 정렬방식과 달리 해당 값이 위치하는 index에 해당하는 값을 증가시켜주는 방식이다.   \n",
    "때문에 가장 작은 값과 가장 큰값의 차이가 작을때 굉장히 빠르게 사용될 수 있다.   \n",
    "예를 들면 100점 만점인 성적을 기준으로 정렬해야하는 경우 가장 빠른 방법 중에 하나 일 수 있다.   "
   ]
  },
  {
   "cell_type": "code",
   "execution_count": 21,
   "id": "95980896",
   "metadata": {},
   "outputs": [
    {
     "name": "stdout",
     "output_type": "stream",
     "text": [
      "[0, 0, 1, 1, 2, 2, 2, 2, 3, 3, 3, 4, 4, 5, 5, 6, 7, 8, 9, 10, 11]\n"
     ]
    }
   ],
   "source": [
    "array = [7,5,9,0,3,2,1,6,2,4,8,10,1,0,2,3,4,3,2,5,11]\n",
    "\n",
    "\n",
    "def count_sort(array):\n",
    "    answer_array = []\n",
    "    max_data = max(array)\n",
    "    min_data = min(array)\n",
    "    \n",
    "    count_list = [0 for i in range(max_data-min_data+1)]\n",
    "    \n",
    "    for i in range(len(array)):\n",
    "        count_list[array[i]-min_data] +=1\n",
    "        \n",
    "    for i in range(len(count_list)):\n",
    "        for j in range(count_list[i]):\n",
    "            answer_array.append(i+min_data)\n",
    "            \n",
    "    return answer_array\n",
    "\n",
    "print(count_sort(array))"
   ]
  },
  {
   "cell_type": "code",
   "execution_count": null,
   "id": "7824f4f2",
   "metadata": {},
   "outputs": [],
   "source": []
  },
  {
   "cell_type": "code",
   "execution_count": null,
   "id": "9f27d082",
   "metadata": {},
   "outputs": [],
   "source": []
  }
 ],
 "metadata": {
  "kernelspec": {
   "display_name": "Python 3",
   "language": "python",
   "name": "python3"
  },
  "language_info": {
   "codemirror_mode": {
    "name": "ipython",
    "version": 3
   },
   "file_extension": ".py",
   "mimetype": "text/x-python",
   "name": "python",
   "nbconvert_exporter": "python",
   "pygments_lexer": "ipython3",
   "version": "3.9.4"
  }
 },
 "nbformat": 4,
 "nbformat_minor": 5
}
