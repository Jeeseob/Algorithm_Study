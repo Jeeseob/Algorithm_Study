{
 "cells": [
  {
   "cell_type": "markdown",
   "id": "5b399ce6",
   "metadata": {},
   "source": [
    "# DFS"
   ]
  },
  {
   "cell_type": "markdown",
   "id": "bf34bfa6",
   "metadata": {},
   "source": [
    "DFS는 Depth-First Search 즉 깊이 우선 탐색이다.   \n",
    "\n",
    "그래프에서 깊은 부분을 우선적으로 탐색하는 알고리즘이다.\n",
    "\n"
   ]
  },
  {
   "cell_type": "markdown",
   "id": "8922a9ba",
   "metadata": {},
   "source": []
  },
  {
   "cell_type": "code",
   "execution_count": null,
   "id": "5b67463d",
   "metadata": {},
   "outputs": [],
   "source": []
  },
  {
   "cell_type": "code",
   "execution_count": null,
   "id": "ebbc3431",
   "metadata": {},
   "outputs": [],
   "source": []
  }
 ],
 "metadata": {
  "kernelspec": {
   "display_name": "Python 3",
   "language": "python",
   "name": "python3"
  },
  "language_info": {
   "codemirror_mode": {
    "name": "ipython",
    "version": 3
   },
   "file_extension": ".py",
   "mimetype": "text/x-python",
   "name": "python",
   "nbconvert_exporter": "python",
   "pygments_lexer": "ipython3",
   "version": "3.9.4"
  }
 },
 "nbformat": 4,
 "nbformat_minor": 5
}
