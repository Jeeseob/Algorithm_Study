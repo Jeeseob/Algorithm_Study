{
 "cells": [
  {
   "cell_type": "markdown",
   "id": "eff40113",
   "metadata": {},
   "source": [
    "## 음료수 얼려먹기"
   ]
  },
  {
   "cell_type": "markdown",
   "id": "cc28c6a8",
   "metadata": {},
   "source": [
    "N x M 크기의 얼음틀이 있다.구멍이 뚫려 있는 부분은 0,    \n",
    "칸막이가 존재하는 부분은 1로 표시된다. 구멍이 뚫려 있는 부분끼리     \n",
    "상하좌우로 붙어있는 경우 서로 연결되어 있는 것으로 간주한다.   \n",
    "이때 얼음 틀의 모양이 주어졌을 때 생성되는    \n",
    "아이스크림의 개수를 구하는 프로그램을 작성하라"
   ]
  },
  {
   "cell_type": "code",
   "execution_count": null,
   "id": "27577586",
   "metadata": {},
   "outputs": [],
   "source": [
    "# 두개의 input을 \n",
    "n, m = map(int, input.split())\n",
    "\n",
    "graph = []\n",
    "\n",
    "for i in range(n):\n",
    "    graph.append(list(map(int,input())))\n",
    "    \n"
   ]
  },
  {
   "cell_type": "code",
   "execution_count": null,
   "id": "dfa6f503",
   "metadata": {},
   "outputs": [],
   "source": [
    "def search(graph, now, visited):\n",
    "    \n",
    "    "
   ]
  },
  {
   "cell_type": "code",
   "execution_count": null,
   "id": "d7f80112",
   "metadata": {},
   "outputs": [],
   "source": [
    "def sol(n, m, map_matrix):\n",
    "    "
   ]
  },
  {
   "cell_type": "code",
   "execution_count": null,
   "id": "9547d3ad",
   "metadata": {},
   "outputs": [],
   "source": []
  }
 ],
 "metadata": {
  "kernelspec": {
   "display_name": "Python 3",
   "language": "python",
   "name": "python3"
  },
  "language_info": {
   "codemirror_mode": {
    "name": "ipython",
    "version": 3
   },
   "file_extension": ".py",
   "mimetype": "text/x-python",
   "name": "python",
   "nbconvert_exporter": "python",
   "pygments_lexer": "ipython3",
   "version": "3.9.4"
  }
 },
 "nbformat": 4,
 "nbformat_minor": 5
}
