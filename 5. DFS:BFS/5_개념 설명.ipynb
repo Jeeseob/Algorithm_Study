{
 "cells": [
  {
   "cell_type": "markdown",
   "id": "c5a12c81",
   "metadata": {},
   "source": [
    "# 탐색"
   ]
  },
  {
   "cell_type": "markdown",
   "id": "267f1d2f",
   "metadata": {},
   "source": [
    "탐색은 많은 양의 데이터 중 원하는 데이터를 찾아내는 과정이다.    \n",
    "\n",
    "보통 그래프, 트리 등의 자료구조를 기반으로 탐색 알고리즘을 활용하는 경우가 많다.   \n",
    "\n",
    "탐색의 유형에는 DFS와 BFS가 있다.\n"
   ]
  },
  {
   "cell_type": "code",
   "execution_count": null,
   "id": "be30d08d",
   "metadata": {},
   "outputs": [],
   "source": []
  },
  {
   "cell_type": "markdown",
   "id": "bcb09cba",
   "metadata": {},
   "source": [
    "스택과 큐를 실제 구현할때에는 오버플로와 언더플로에 대해서 고민해야한다.   \n",
    "\n",
    "오버 플로는 특정 자료구조가 허용 가능한 데이터를 이미 모두 가지고 있는 경우에 삽입 연산을 수행한다면 발생하고\n",
    "\n",
    "언더 플로는 자료구조에 아무런 데이터가 없는 상태에서 삭제 연산을 수행한다면 발생한다."
   ]
  },
  {
   "cell_type": "markdown",
   "id": "351bff21",
   "metadata": {},
   "source": [
    "## Stack"
   ]
  },
  {
   "cell_type": "markdown",
   "id": "6ac7363b",
   "metadata": {},
   "source": [
    "First In Last Out(FILO)\n",
    "\n",
    "입력과 출력의 방향이 같다.\n",
    "가장 마지막에 들어간 데이터가 가장 먼저 삭제(출력)된다."
   ]
  },
  {
   "cell_type": "code",
   "execution_count": 8,
   "id": "ad25d9ba",
   "metadata": {},
   "outputs": [],
   "source": [
    "stack = []\n",
    "\n",
    "#삽입\n",
    "stack.append(3)\n",
    "stack.append(2)\n",
    "stack.append(6)\n"
   ]
  },
  {
   "cell_type": "code",
   "execution_count": 9,
   "id": "af0c148b",
   "metadata": {},
   "outputs": [
    {
     "name": "stdout",
     "output_type": "stream",
     "text": [
      "[3, 2, 6]\n"
     ]
    }
   ],
   "source": [
    "#순서대로 데이터가 들어간 것을 확인 할 수 있다.\n",
    "print(stack)"
   ]
  },
  {
   "cell_type": "code",
   "execution_count": 10,
   "id": "9b26ac98",
   "metadata": {},
   "outputs": [
    {
     "data": {
      "text/plain": [
       "6"
      ]
     },
     "execution_count": 10,
     "metadata": {},
     "output_type": "execute_result"
    }
   ],
   "source": [
    "#삭제\n",
    "#list에서 pop 함수를 아무런 인자 없이 사용하면, 마지막 index 값을 return한다. \n",
    "stack.pop()"
   ]
  },
  {
   "cell_type": "code",
   "execution_count": 11,
   "id": "95a28b94",
   "metadata": {},
   "outputs": [
    {
     "name": "stdout",
     "output_type": "stream",
     "text": [
      "[3, 2]\n"
     ]
    }
   ],
   "source": [
    "#가장 마지막에 입력된 6이 제거된 것을 볼 수 있다.\n",
    "print(stack)"
   ]
  },
  {
   "cell_type": "code",
   "execution_count": null,
   "id": "52bb4d98",
   "metadata": {},
   "outputs": [],
   "source": []
  },
  {
   "cell_type": "markdown",
   "id": "aa92fafe",
   "metadata": {},
   "source": [
    "## Queue"
   ]
  },
  {
   "cell_type": "markdown",
   "id": "c32e044b",
   "metadata": {},
   "source": [
    "First In First Out(FIFO)\n",
    "\n",
    "입력과 출력이 각각 다른 방향으로 일어난다.\n",
    "가장 먼저 삽입된 데이터가 가장 먼저 삭제(출력)된다."
   ]
  },
  {
   "cell_type": "code",
   "execution_count": 13,
   "id": "0ff43deb",
   "metadata": {},
   "outputs": [],
   "source": [
    "# 큐의 구현을 위해 deque 라이브러리 사용\n",
    "from collections import deque"
   ]
  },
  {
   "cell_type": "code",
   "execution_count": 27,
   "id": "737d9a7f",
   "metadata": {},
   "outputs": [],
   "source": [
    "queue = deque()"
   ]
  },
  {
   "cell_type": "code",
   "execution_count": 28,
   "id": "4c2910e0",
   "metadata": {},
   "outputs": [],
   "source": [
    "#삽입\n",
    "queue.append(4)\n",
    "queue.append(5)\n",
    "queue.append(2)\n",
    "queue.append(8)\n",
    "queue.append(9)\n"
   ]
  },
  {
   "cell_type": "code",
   "execution_count": 29,
   "id": "48612e54",
   "metadata": {},
   "outputs": [
    {
     "name": "stdout",
     "output_type": "stream",
     "text": [
      "deque([4, 5, 2, 8, 9])\n"
     ]
    }
   ],
   "source": [
    "print(queue)"
   ]
  },
  {
   "cell_type": "code",
   "execution_count": 30,
   "id": "3d7ae544",
   "metadata": {},
   "outputs": [
    {
     "data": {
      "text/plain": [
       "4"
      ]
     },
     "execution_count": 30,
     "metadata": {},
     "output_type": "execute_result"
    }
   ],
   "source": [
    "#삭제\n",
    "#deque에서는 popleft 함수를 활용하면 첫 index의 값을 return한다.\n",
    "queue.popleft()"
   ]
  },
  {
   "cell_type": "code",
   "execution_count": 31,
   "id": "2a7f0e0e",
   "metadata": {},
   "outputs": [
    {
     "name": "stdout",
     "output_type": "stream",
     "text": [
      "deque([5, 2, 8, 9])\n"
     ]
    }
   ],
   "source": [
    "#가장 먼저 들어온 4가 제거된 것을 볼 수 있다.\n",
    "print(queue)"
   ]
  },
  {
   "cell_type": "code",
   "execution_count": 32,
   "id": "1783e3d3",
   "metadata": {},
   "outputs": [
    {
     "name": "stdout",
     "output_type": "stream",
     "text": [
      "deque([5, 2, 8, 9])\n",
      "deque([9, 8, 2, 5])\n"
     ]
    }
   ],
   "source": [
    "#추가사항\n",
    "#reverse 함수를 통해 들어온 값의 순서를 반전시킬 수 있다.\n",
    "print(queue)\n",
    "queue.reverse()\n",
    "print(queue)"
   ]
  },
  {
   "cell_type": "code",
   "execution_count": null,
   "id": "0a96d3f5",
   "metadata": {},
   "outputs": [],
   "source": []
  },
  {
   "cell_type": "markdown",
   "id": "0c9b3831",
   "metadata": {},
   "source": [
    "# 재귀함수"
   ]
  },
  {
   "cell_type": "markdown",
   "id": "83773fcc",
   "metadata": {},
   "source": [
    "DFS와 BFS를 구현하기 위해서는 재귀함수에 대한 지식이 필수적이다.   \n",
    "재귀 함수는 자기 자신을 다시 호출하는 함수이다.\n",
    "\n",
    "### 파이썬 인터프리터는 최대 호출 횟수의 제한이 있다.   \n",
    "\n",
    "이 한계를 벗어나는 무한대 재귀호출을 진행한다면 재귀의 최대 깊이를 초과했다는 내용의 오류 메세지를 출력한다."
   ]
  },
  {
   "cell_type": "code",
   "execution_count": 35,
   "id": "65247c11",
   "metadata": {},
   "outputs": [
    {
     "name": "stdout",
     "output_type": "stream",
     "text": [
      "재귀함수 입니다. 1\n",
      "재귀함수 입니다. 2\n",
      "재귀함수 입니다. 3\n",
      "재귀함수 입니다. 4\n",
      "재귀함수 입니다. 5\n",
      "재귀함수 입니다. 6\n",
      "재귀함수 입니다. 7\n",
      "재귀함수 입니다. 8\n",
      "재귀함수 입니다. 9\n",
      "재귀함수 입니다. 10\n"
     ]
    }
   ],
   "source": [
    "def recursive_function(count):\n",
    "    if count >= 10:\n",
    "        return\n",
    "    count += 1\n",
    "    print('재귀함수 입니다.',count)\n",
    "    recursive_function(count)\n",
    "    \n",
    "    \n",
    "recursive_function(0)\n"
   ]
  },
  {
   "cell_type": "code",
   "execution_count": null,
   "id": "768d3d74",
   "metadata": {},
   "outputs": [],
   "source": []
  },
  {
   "cell_type": "markdown",
   "id": "5492e60d",
   "metadata": {},
   "source": [
    "재귀함수를 사용하지 않은 팩토리어러 구현"
   ]
  },
  {
   "cell_type": "code",
   "execution_count": 40,
   "id": "5fa10fe0",
   "metadata": {},
   "outputs": [
    {
     "data": {
      "text/plain": [
       "120"
      ]
     },
     "execution_count": 40,
     "metadata": {},
     "output_type": "execute_result"
    }
   ],
   "source": [
    "def factorial_iterative(num):\n",
    "    result = 1\n",
    "    #1 부터 num 까지 차례대로 곱하기\n",
    "    for i in range(1,num+1):\n",
    "        result *= i\n",
    "    return result\n",
    "\n",
    "factorial_iterative(5)"
   ]
  },
  {
   "cell_type": "markdown",
   "id": "0473c355",
   "metadata": {},
   "source": [
    "재귀함수 예제 (펙토리얼 구현)"
   ]
  },
  {
   "cell_type": "code",
   "execution_count": 41,
   "id": "c6aadd78",
   "metadata": {},
   "outputs": [
    {
     "data": {
      "text/plain": [
       "120"
      ]
     },
     "execution_count": 41,
     "metadata": {},
     "output_type": "execute_result"
    }
   ],
   "source": [
    "def factorial_recursive(num):\n",
    "    if num<=1:\n",
    "        return 1\n",
    "    # retrun 된 값에 num을 곱하고 다시 return num은 1->2->3 순으로 점점 커지기 때문에 결국 num!이 된다.\n",
    "    return num * factorial_recursive(num -1)\n",
    "    \n",
    "    \n",
    "factorial_recursive(5)"
   ]
  },
  {
   "cell_type": "code",
   "execution_count": null,
   "id": "ff56de27",
   "metadata": {},
   "outputs": [],
   "source": []
  }
 ],
 "metadata": {
  "kernelspec": {
   "display_name": "Python 3",
   "language": "python",
   "name": "python3"
  },
  "language_info": {
   "codemirror_mode": {
    "name": "ipython",
    "version": 3
   },
   "file_extension": ".py",
   "mimetype": "text/x-python",
   "name": "python",
   "nbconvert_exporter": "python",
   "pygments_lexer": "ipython3",
   "version": "3.9.4"
  }
 },
 "nbformat": 4,
 "nbformat_minor": 5
}
