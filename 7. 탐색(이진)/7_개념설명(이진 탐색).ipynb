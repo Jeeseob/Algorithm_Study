{
 "cells": [
  {
   "cell_type": "markdown",
   "id": "e506fc99",
   "metadata": {},
   "source": [
    "## 이진 탐색"
   ]
  },
  {
   "cell_type": "markdown",
   "id": "10890f65",
   "metadata": {},
   "source": [
    "이진 탐색은 데이터를 반으로 쪼개가며 데이터를 탐색하는 방법이다.\n",
    "\n",
    "- 이진 탐색은 데이터가 정렬되어 있는 상태에서만 사용가능하다.\n",
    "- 데이터의 범위를 절반씩 좁혀나가는 방식이다.\n",
    "- O(logN)의 시간복잡도를 가진다.   \n",
    "   \n",
    "   \n",
    "팁으로 이진탐색 알고리즘은 어느정도 외워두자.    \n",
    "보통 다른 알고리즘 문제와 함께 사용됨."
   ]
  },
  {
   "cell_type": "code",
   "execution_count": 99,
   "id": "70274cb9",
   "metadata": {},
   "outputs": [],
   "source": [
    "#7-2.py\n",
    "\n",
    "def binary_search(array, target, start, end):\n",
    "    if start == end:\n",
    "        if target == array[start]:\n",
    "            return (start + 1)\n",
    "        else:\n",
    "            return -1\n",
    "        \n",
    "    mid = (start + end) // 2\n",
    "    \n",
    "    if array[mid] == target:\n",
    "        return mid + 1\n",
    "    elif array[mid] > target:\n",
    "        return binary_search(array,target, start,mid-1)\n",
    "    else :\n",
    "        return binary_search(array,target, mid+1,end)\n"
   ]
  },
  {
   "cell_type": "code",
   "execution_count": 114,
   "id": "727552f7",
   "metadata": {},
   "outputs": [],
   "source": [
    "def binary_search_while(array, target, start, end):\n",
    "    while start <= end:\n",
    "        if start == end:\n",
    "            if array[start] == target:\n",
    "                return start+1\n",
    "            else :\n",
    "                return -1\n",
    "        mid = (start + end) // 2\n",
    "        if array[mid] == target:\n",
    "            return mid + 1\n",
    "        elif array[mid] > target:\n",
    "            end = mid-1\n",
    "        else:\n",
    "            start = mid+1\n",
    "            \n",
    "    return None"
   ]
  },
  {
   "cell_type": "code",
   "execution_count": 115,
   "id": "aa21ac9b",
   "metadata": {},
   "outputs": [],
   "source": [
    "array = [0,2,4,6,8,10,12,14,16,18]"
   ]
  },
  {
   "cell_type": "code",
   "execution_count": 116,
   "id": "b577a565",
   "metadata": {},
   "outputs": [
    {
     "name": "stdout",
     "output_type": "stream",
     "text": [
      "-1\n"
     ]
    }
   ],
   "source": [
    "print(binary_search(array,24,0,len(array)-1))"
   ]
  },
  {
   "cell_type": "code",
   "execution_count": 117,
   "id": "8ac86fde",
   "metadata": {},
   "outputs": [
    {
     "name": "stdout",
     "output_type": "stream",
     "text": [
      "3\n"
     ]
    }
   ],
   "source": [
    "print(binary_search_while(array,4,0,len(array)-1))"
   ]
  },
  {
   "cell_type": "code",
   "execution_count": null,
   "id": "6852d0a5",
   "metadata": {},
   "outputs": [],
   "source": []
  }
 ],
 "metadata": {
  "kernelspec": {
   "display_name": "Python 3",
   "language": "python",
   "name": "python3"
  },
  "language_info": {
   "codemirror_mode": {
    "name": "ipython",
    "version": 3
   },
   "file_extension": ".py",
   "mimetype": "text/x-python",
   "name": "python",
   "nbconvert_exporter": "python",
   "pygments_lexer": "ipython3",
   "version": "3.9.4"
  }
 },
 "nbformat": 4,
 "nbformat_minor": 5
}
