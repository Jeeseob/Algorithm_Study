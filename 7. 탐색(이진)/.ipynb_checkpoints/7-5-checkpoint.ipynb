{
 "cells": [
  {
   "cell_type": "markdown",
   "id": "56123c12",
   "metadata": {},
   "source": [
    "## 부품 찾기\n",
    "7-5.py"
   ]
  },
  {
   "cell_type": "code",
   "execution_count": 1,
   "id": "5d8ea183",
   "metadata": {},
   "outputs": [],
   "source": [
    "N = 5\n",
    "NArray = [8,3,7,9,2]\n",
    "\n",
    "M = 3\n",
    "MArray = [5,7,9]"
   ]
  },
  {
   "cell_type": "code",
   "execution_count": 9,
   "id": "463558b7",
   "metadata": {},
   "outputs": [],
   "source": [
    "def findItem(NArray, MArray):\n",
    "    answer = []\n",
    "    for item in MArray:\n",
    "        if item in NArray:\n",
    "            answer.append('Yes')\n",
    "        else:\n",
    "            answer.append('No')\n",
    "    return answer"
   ]
  },
  {
   "cell_type": "code",
   "execution_count": 11,
   "id": "6e403acf",
   "metadata": {},
   "outputs": [
    {
     "name": "stdout",
     "output_type": "stream",
     "text": [
      "['No', 'Yes', 'Yes']\n"
     ]
    }
   ],
   "source": [
    "print(findItem(NArray, MArray))"
   ]
  },
  {
   "cell_type": "code",
   "execution_count": null,
   "id": "d8978933",
   "metadata": {},
   "outputs": [],
   "source": []
  },
  {
   "cell_type": "code",
   "execution_count": null,
   "id": "50abb13c",
   "metadata": {},
   "outputs": [],
   "source": []
  },
  {
   "cell_type": "code",
   "execution_count": 15,
   "id": "f250ac49",
   "metadata": {},
   "outputs": [],
   "source": [
    "def binary_search(start, end, array,item):\n",
    "    if start == end:\n",
    "        if array[start] == item:\n",
    "            return True\n",
    "        else:\n",
    "            return False\n",
    "        \n",
    "    mid = (start+end)//2\n",
    "    if array[mid] == item:\n",
    "        return True\n",
    "    elif array[mid] > item:\n",
    "        return binary_search(start, mid-1, array, item)\n",
    "    else:\n",
    "        return binary_search(mid+1, end, array, item)"
   ]
  },
  {
   "cell_type": "code",
   "execution_count": 16,
   "id": "37d4132c",
   "metadata": {},
   "outputs": [],
   "source": [
    "def findItem_binary(NArray, MArray):\n",
    "    answer = []\n",
    "    array = sorted(NArray)\n",
    "    for item in MArray:\n",
    "        if binary_search(0, len(array)-1, array,item):\n",
    "            answer.append('Yes')\n",
    "        else:\n",
    "            answer.append('No')\n",
    "    return answer"
   ]
  },
  {
   "cell_type": "code",
   "execution_count": 17,
   "id": "a75120c5",
   "metadata": {},
   "outputs": [
    {
     "name": "stdout",
     "output_type": "stream",
     "text": [
      "['No', 'Yes', 'Yes']\n"
     ]
    }
   ],
   "source": [
    "print(findItem_binary(NArray, MArray))"
   ]
  },
  {
   "cell_type": "code",
   "execution_count": null,
   "id": "a1f411b3",
   "metadata": {},
   "outputs": [],
   "source": []
  }
 ],
 "metadata": {
  "kernelspec": {
   "display_name": "Python 3",
   "language": "python",
   "name": "python3"
  },
  "language_info": {
   "codemirror_mode": {
    "name": "ipython",
    "version": 3
   },
   "file_extension": ".py",
   "mimetype": "text/x-python",
   "name": "python",
   "nbconvert_exporter": "python",
   "pygments_lexer": "ipython3",
   "version": "3.9.4"
  }
 },
 "nbformat": 4,
 "nbformat_minor": 5
}
