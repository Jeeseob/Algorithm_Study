{
 "cells": [
  {
   "cell_type": "markdown",
   "id": "76bf4a23",
   "metadata": {},
   "source": [
    "## 위에서 아래로\n",
    "6-10.py   "
   ]
  },
  {
   "cell_type": "code",
   "execution_count": 25,
   "id": "43a541ee",
   "metadata": {},
   "outputs": [],
   "source": [
    "def sortUpToDown(array):\n",
    "    return sorted(array, reverse = True)\n",
    "    "
   ]
  },
  {
   "cell_type": "code",
   "execution_count": 26,
   "id": "a85bc6f7",
   "metadata": {},
   "outputs": [
    {
     "name": "stdout",
     "output_type": "stream",
     "text": [
      "3\n",
      "15\n",
      "37\n",
      "456\n",
      "['15', '37', '456']\n"
     ]
    }
   ],
   "source": [
    "array = []\n",
    "n = int(input())\n",
    "\n",
    "for count in range(n):\n",
    "    array.append(input())\n",
    "\n",
    "print(array)"
   ]
  },
  {
   "cell_type": "code",
   "execution_count": 27,
   "id": "e4e0eb7d",
   "metadata": {},
   "outputs": [
    {
     "name": "stdout",
     "output_type": "stream",
     "text": [
      "['456', '37', '15']\n"
     ]
    }
   ],
   "source": [
    "reverseArray = sorted(array, reverse = True)\n",
    "print(reverseArray)"
   ]
  },
  {
   "cell_type": "code",
   "execution_count": 28,
   "id": "751108b2",
   "metadata": {},
   "outputs": [
    {
     "name": "stdout",
     "output_type": "stream",
     "text": [
      "['456', '37', '15']\n",
      "['15', '37', '456']\n"
     ]
    }
   ],
   "source": [
    "print(sortUpToDown(array))\n",
    "print(array)"
   ]
  },
  {
   "cell_type": "code",
   "execution_count": null,
   "id": "906efcec",
   "metadata": {},
   "outputs": [],
   "source": []
  }
 ],
 "metadata": {
  "kernelspec": {
   "display_name": "Python 3",
   "language": "python",
   "name": "python3"
  },
  "language_info": {
   "codemirror_mode": {
    "name": "ipython",
    "version": 3
   },
   "file_extension": ".py",
   "mimetype": "text/x-python",
   "name": "python",
   "nbconvert_exporter": "python",
   "pygments_lexer": "ipython3",
   "version": "3.9.4"
  }
 },
 "nbformat": 4,
 "nbformat_minor": 5
}
