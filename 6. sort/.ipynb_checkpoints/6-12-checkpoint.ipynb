{
 "cells": [
  {
   "cell_type": "markdown",
   "id": "559f0e2f",
   "metadata": {},
   "source": [
    "## 두 배열의 원소 교체\n",
    "6-12.py"
   ]
  },
  {
   "cell_type": "code",
   "execution_count": 1,
   "id": "cdbd283e",
   "metadata": {},
   "outputs": [],
   "source": [
    "N = 5\n",
    "K = 3\n",
    "\n",
    "array1 = [1,2,5,4,3]\n",
    "array2 = [5,5,6,6,5]"
   ]
  },
  {
   "cell_type": "code",
   "execution_count": 7,
   "id": "8571b719",
   "metadata": {},
   "outputs": [],
   "source": [
    "def changeData(K,array1, array2):\n",
    "    firstArray = sorted(array1)\n",
    "    secondArray = sorted(array2, reverse = True)\n",
    "    \n",
    "    for index in range(K):\n",
    "        if firstArray[index] < secondArray[index]:\n",
    "            firstArray[index], secondArray[index] = secondArray[index], firstArray[index]\n",
    "        else:\n",
    "            break\n",
    "    \n",
    "    return firstArray"
   ]
  },
  {
   "cell_type": "code",
   "execution_count": 8,
   "id": "3550b45b",
   "metadata": {},
   "outputs": [
    {
     "name": "stdout",
     "output_type": "stream",
     "text": [
      "[6, 6, 5, 4, 5]\n"
     ]
    }
   ],
   "source": [
    "print(changeData(K,array1,array2))"
   ]
  },
  {
   "cell_type": "code",
   "execution_count": null,
   "id": "38ecc5c7",
   "metadata": {},
   "outputs": [],
   "source": []
  }
 ],
 "metadata": {
  "kernelspec": {
   "display_name": "Python 3",
   "language": "python",
   "name": "python3"
  },
  "language_info": {
   "codemirror_mode": {
    "name": "ipython",
    "version": 3
   },
   "file_extension": ".py",
   "mimetype": "text/x-python",
   "name": "python",
   "nbconvert_exporter": "python",
   "pygments_lexer": "ipython3",
   "version": "3.9.4"
  }
 },
 "nbformat": 4,
 "nbformat_minor": 5
}
